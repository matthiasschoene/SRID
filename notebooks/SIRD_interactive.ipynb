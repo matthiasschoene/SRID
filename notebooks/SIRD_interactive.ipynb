{
 "cells": [
  {
   "cell_type": "code",
   "execution_count": 2,
   "metadata": {},
   "outputs": [],
   "source": [
    "#Import packages \n",
    "import scipy.integrate\n",
    "import numpy as np\n",
    "import matplotlib.pyplot as plt\n",
    "import ipywidgets as widgets\n",
    "from ipywidgets import interact, interactive, fixed, interact_manual,Label\n"
   ]
  },
  {
   "cell_type": "markdown",
   "metadata": {},
   "source": [
    "### SIRD-Modell Corona\n",
    "Die Simulation berechnet den Verlauf der Epidemie je nach Wert der Anfangsparameter nach den Differentialgleichungen des SIRD-Modells\n",
    "<ul>\n",
    "    <li> $S_0$ Anzahl der Nichtinfizierte am Anfang der Epidemie </li>\n",
    "    <li> $I_0$ Anzahl der Infizierte am Anfang der Epidemie. Beachte $S_0 +I_0 \\leq 1$ </li>\n",
    "    <li> K Durchschnittliche Anzahl der Kontakte pro Tag</li>\n",
    "    <li> $\\tau$ Wahrscheinlichkeit der Ansteckungen pro Kontakt, bei Corona $\\tau\\approx 0,1$ </li>\n",
    "    <li> $\\delta$ Anteil der Infizierten, die sterben, bei Corona $\\delta\\approx 0,01$ (Zahl extrem unsicher) </li>\n",
    "    <li> $G$ Durchschnittliche Anzahl Tage bis zur Genesung G$\\approx$ 14</li>\n",
    "</ul>"
   ]
  },
  {
   "cell_type": "code",
   "execution_count": 3,
   "metadata": {},
   "outputs": [],
   "source": [
    "#ODEs\n",
    "\n",
    "def SIRD_model(y,t,beta, gamma,delta):\n",
    "    S,I,R,D = y\n",
    "    dS_dt = -beta*S*I\n",
    "    dI_dt = beta*S*I - gamma*I - delta*I\n",
    "    dR_dt = gamma*I\n",
    "    dD_dt = delta*I\n",
    "    return([dS_dt, dI_dt, dR_dt,dD_dt])"
   ]
  },
  {
   "cell_type": "code",
   "execution_count": 4,
   "metadata": {},
   "outputs": [
    {
     "data": {
      "application/vnd.jupyter.widget-view+json": {
       "model_id": "7e124b2d8caf4d2ab7c4bb7a32bb1897",
       "version_major": 2,
       "version_minor": 0
      },
      "text/plain": [
       "interactive(children=(FloatSlider(value=0.9, description='S0', max=1.0, step=0.05), FloatSlider(value=0.1, des…"
      ]
     },
     "metadata": {},
     "output_type": "display_data"
    },
    {
     "data": {
      "text/plain": [
       "<function __main__.my_func(S0, I0, K, tau, day, delta)>"
      ]
     },
     "execution_count": 4,
     "metadata": {},
     "output_type": "execute_result"
    }
   ],
   "source": [
    "# Initial conditions\n",
    "S0 = 0.99\n",
    "I0 = 0.01\n",
    "D0 = 0.0\n",
    "beta = 0.35 # durschnittliche Kontaktzahl*Transmissionsrate\n",
    "gamma = 1/14 # Recovery rate = 1/Infektionsdauer\n",
    "delta = 0.01 # Todesrate\n",
    "\n",
    "def my_func(S0, I0, K,tau, day, delta):\n",
    "    D0 = 0.0\n",
    "    R0=1-S0-I0\n",
    "    beta=K*tau\n",
    "    gamma = 1/day\n",
    "    # Time vector\n",
    "    t=np.linspace(0,100, 10000)\n",
    "\n",
    "    # Result\n",
    "    solution = scipy.integrate.odeint(SIRD_model, [S0,I0,R0,D0], t, args=(beta, gamma, delta))\n",
    "    # Plot results\n",
    "    plt.figure(figsize=[12,8])\n",
    "    plt.plot(t,solution[:,0], label=\"S(t) Anteil der Nichtinfizierten (susceptible)\")\n",
    "    plt.plot(t,solution[:,1], label=\"I(t) Anteil der Infizierten\")\n",
    "    plt.plot(t,solution[:,2], label=\"R(t) Anteil der Genesenen (Recovered)\")\n",
    "    plt.plot(t,solution[:,3], label=\"D(t) Anteil der Gestorbenen (Death)\")\n",
    "    plt.grid()\n",
    "    plt.legend()\n",
    "    plt.xlabel(\"Zeit in Tagen\")\n",
    "    plt.ylabel(\"Anteil\")\n",
    "    plt.yticks([0.0,0.05,0.1,0.15,0.2,.25,.3,.35,.4,.45,.5,.55,.6,.65,.7,.75,.8,.85,.9,.95,1.0])\n",
    "    \n",
    "    \n",
    "#my_func(0.95, 0.05, 0,3, 0.1, 10, 0.01)\n",
    "\n",
    "interact(my_func,\n",
    "         I0 = widgets.FloatSlider(value = 0.1, min = 0, max = 1.0, step = 0.05, description = \"I0\"),\n",
    "         S0 = widgets.FloatSlider(value = 0.9, min = 0, max = 1.0, step = 0.05, description = \"S0\"),\n",
    "         K = widgets.FloatSlider(value = 3, min = 0, max = 15, step = 0.25, description = \"Kontakte\"),\n",
    "         tau = widgets.FloatSlider(value = 0.1, min = 0, max = 1.0, step = 0.05, description = '\\N{greek small letter tau}'),\n",
    "         day = widgets.FloatSlider(value = 10, min = 0, max = 20, step = 1, description = \"Tage G\"),\n",
    "         delta = widgets.FloatSlider(value = 0.01, min = 0, max = 0.2, step = 0.01, description ='\\N{greek small letter delta}'))\n",
    "\n"
   ]
  },
  {
   "cell_type": "code",
   "execution_count": null,
   "metadata": {},
   "outputs": [],
   "source": []
  }
 ],
 "metadata": {
  "kernelspec": {
   "display_name": "Python 3",
   "language": "python",
   "name": "python3"
  },
  "language_info": {
   "codemirror_mode": {
    "name": "ipython",
    "version": 3
   },
   "file_extension": ".py",
   "mimetype": "text/x-python",
   "name": "python",
   "nbconvert_exporter": "python",
   "pygments_lexer": "ipython3",
   "version": "3.7.4"
  }
 },
 "nbformat": 4,
 "nbformat_minor": 4
}
